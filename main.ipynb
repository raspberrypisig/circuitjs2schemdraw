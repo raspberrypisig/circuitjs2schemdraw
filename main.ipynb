{
 "cells": [
  {
   "cell_type": "code",
   "execution_count": 34,
   "metadata": {},
   "outputs": [],
   "source": [
    "from pyleri import (\n",
    "    Choice,\n",
    "    Grammar,\n",
    "    Keyword,\n",
    "    List,\n",
    "    Optional,\n",
    "    Regex,\n",
    "    Repeat,\n",
    "    Ref,\n",
    "    Sequence)\n",
    "\n",
    "import json"
   ]
  },
  {
   "cell_type": "code",
   "execution_count": 35,
   "metadata": {},
   "outputs": [
    {
     "name": "stdout",
     "output_type": "stream",
     "text": [
      "True\n",
      "{\n",
      "  \"start\": 0,\n",
      "  \"end\": 20,\n",
      "  \"name\": \"START\",\n",
      "  \"element\": \"Ref\",\n",
      "  \"string\": \"r 240 80 448 80 0 10\",\n",
      "  \"children\": [\n",
      "    {\n",
      "      \"start\": 0,\n",
      "      \"end\": 20,\n",
      "      \"name\": \"resistor\",\n",
      "      \"element\": \"Sequence\",\n",
      "      \"string\": \"r 240 80 448 80 0 10\",\n",
      "      \"children\": [\n",
      "        {\n",
      "          \"start\": 0,\n",
      "          \"end\": 1,\n",
      "          \"name\": null,\n",
      "          \"element\": \"Keyword\",\n",
      "          \"string\": \"r\",\n",
      "          \"children\": []\n",
      "        },\n",
      "        {\n",
      "          \"start\": 2,\n",
      "          \"end\": 15,\n",
      "          \"name\": \"two_terminal_coords\",\n",
      "          \"element\": \"Repeat\",\n",
      "          \"string\": \"240 80 448 80\",\n",
      "          \"children\": [\n",
      "            {\n",
      "              \"start\": 2,\n",
      "              \"end\": 5,\n",
      "              \"name\": \"integer_literal\",\n",
      "              \"element\": \"Regex\",\n",
      "              \"string\": \"240\",\n",
      "              \"children\": []\n",
      "            },\n",
      "            {\n",
      "              \"start\": 6,\n",
      "              \"end\": 8,\n",
      "              \"name\": \"integer_literal\",\n",
      "              \"element\": \"Regex\",\n",
      "              \"string\": \"80\",\n",
      "              \"children\": []\n",
      "            },\n",
      "            {\n",
      "              \"start\": 9,\n",
      "              \"end\": 12,\n",
      "              \"name\": \"integer_literal\",\n",
      "              \"element\": \"Regex\",\n",
      "              \"string\": \"448\",\n",
      "              \"children\": []\n",
      "            },\n",
      "            {\n",
      "              \"start\": 13,\n",
      "              \"end\": 15,\n",
      "              \"name\": \"integer_literal\",\n",
      "              \"element\": \"Regex\",\n",
      "              \"string\": \"80\",\n",
      "              \"children\": []\n",
      "            }\n",
      "          ]\n",
      "        },\n",
      "        {\n",
      "          \"start\": 16,\n",
      "          \"end\": 17,\n",
      "          \"name\": \"integer_literal\",\n",
      "          \"element\": \"Regex\",\n",
      "          \"string\": \"0\",\n",
      "          \"children\": []\n",
      "        },\n",
      "        {\n",
      "          \"start\": 18,\n",
      "          \"end\": 20,\n",
      "          \"name\": \"integer_literal\",\n",
      "          \"element\": \"Regex\",\n",
      "          \"string\": \"10\",\n",
      "          \"children\": []\n",
      "        }\n",
      "      ]\n",
      "    }\n",
      "  ]\n",
      "}\n"
     ]
    }
   ],
   "source": [
    "\n",
    "class CircuitJSGrammar(Grammar):\n",
    "    START = Ref()\n",
    "    \n",
    "    integer_literal = Regex('[0-9]+')\n",
    "    decimal_or_integer_literal = Regex('(\\d*\\.\\d+|\\d+)')\n",
    "    exponential_literal = Regex('[+]?(\\d*\\.\\d+|\\d+)(e[+-]?\\d+)?')\n",
    "    two_terminal_coords = Repeat(integer_literal, mi=4, ma=4)\n",
    "       \n",
    "    capacitor = Sequence(Keyword('c'), two_terminal_coords, integer_literal, exponential_literal, Repeat(decimal_or_integer_literal, mi=2, ma=2))\n",
    "    ground = Sequence(Keyword('g'), two_terminal_coords, Repeat(integer_literal, mi=2, ma=2))    \n",
    "    resistor = Sequence(Keyword('r'), two_terminal_coords, integer_literal, integer_literal)\n",
    "    voltage = Sequence(Keyword('v'), two_terminal_coords, Repeat(integer_literal, mi=3, ma=3), integer_literal, Repeat(integer_literal, mi=2, ma=2), decimal_or_integer_literal)\n",
    "    wire = Sequence(Keyword('w'), two_terminal_coords, integer_literal)\n",
    "\n",
    "\n",
    "    START = Choice(capacitor, ground, resistor, voltage, wire)\n",
    "\n",
    "def node_props(node, children):\n",
    "    return {\n",
    "        'start': node.start,\n",
    "        'end': node.end,\n",
    "        'name': node.element.name if hasattr(node.element, 'name') else None,\n",
    "        'element': node.element.__class__.__name__,\n",
    "        'string': node.string,\n",
    "        'children': children\n",
    "    }\n",
    "\n",
    "\n",
    "# Recursive method to get the children of a node object:\n",
    "def get_children(children):\n",
    "    return [node_props(c, get_children(c.children)) for c in children]\n",
    "\n",
    "\n",
    "# View the parse tree:\n",
    "def view_parse_tree(res):\n",
    "    start = res.tree.children[0] \\\n",
    "        if res.tree.children else res.tree\n",
    "    return node_props(start, get_children(start.children))\n",
    "        \n",
    "grammar = CircuitJSGrammar()\n",
    "print(grammar.parse('r 240 80 448 80 0 10').is_valid)\n",
    "res = grammar.parse('r 240 80 448 80 0 10')\n",
    "print(json.dumps(view_parse_tree(res), indent=2))\n",
    "#print(grammar.parse('v 32 288 32 224 0 0 40 12 0 0 0.5').is_valid)\n",
    "\n",
    "#res = grammar.parse('c 368 64 368 144 0 1e-7 0.001 0.001')\n",
    "#print(res.is_valid)\n",
    "#print(res.pos)\n"
   ]
  },
  {
   "cell_type": "code",
   "execution_count": 36,
   "metadata": {},
   "outputs": [],
   "source": [
    "class ComponentWarehouse:\n",
    "    def __init__(self):\n",
    "        self.classes = {}\n",
    "\n",
    "    def add_class(self, c):\n",
    "        self.classes[c.__name__] = c\n",
    "\n",
    "    # -- the decorator\n",
    "    def component(self, c):\n",
    "        self.add_class(c)\n",
    "\n",
    "        # Decorators have to return the function/class passed (or a modified variant thereof), however I'd rather do this separately than retroactively change add_class, so.\n",
    "        # \"held\" is more succint, anyway.\n",
    "        return c \n",
    "\n",
    "    def __getitem__(self, n):\n",
    "        return self.classes[n]\n",
    "\n",
    "component_warehouse = ComponentWarehouse()\n",
    "\n",
    "#@food_types.held\n",
    "#class chocolate:\n",
    "#    taste = \"sweet\"\n",
    "\n",
    "#@food_types.held\n",
    "#class lemon:\n",
    "#    taste = \"sour\"\n",
    "\n",
    "#print(food_types['chocolate'].taste) # No manual add_class needed! :D\n"
   ]
  },
  {
   "cell_type": "code",
   "execution_count": 37,
   "metadata": {},
   "outputs": [],
   "source": [
    "@component_warehouse.component\n",
    "class capacitor:\n",
    "    pass\n",
    "\n",
    "@component_warehouse.component\n",
    "class ground:\n",
    "    pass\n",
    "\n",
    "@component_warehouse.component\n",
    "class resistor:\n",
    "    pass\n",
    "\n",
    "@component_warehouse.component\n",
    "class voltage:\n",
    "    pass\n",
    "\n",
    "@component_warehouse.component\n",
    "class wire:\n",
    "    pass\n",
    "\n",
    "\n",
    "\n",
    "\n"
   ]
  },
  {
   "cell_type": "code",
   "execution_count": 47,
   "metadata": {},
   "outputs": [
    {
     "name": "stdout",
     "output_type": "stream",
     "text": [
      "v 160 144 160 64 0 0 40 10 0 0 0.5\n",
      "\n",
      "True\n",
      "voltage\n",
      "<class '__main__.voltage'>\n",
      "r 160 64 368 64 0 100000\n",
      "\n",
      "True\n",
      "resistor\n",
      "<class '__main__.resistor'>\n",
      "c 368 64 368 144 0 1e-7 0.001 0.001\n",
      "\n",
      "True\n",
      "capacitor\n",
      "<class '__main__.capacitor'>\n",
      "w 368 144 160 144 0\n",
      "\n",
      "True\n",
      "wire\n",
      "<class '__main__.wire'>\n",
      "g 160 144 160 176 0 0\n",
      "True\n",
      "ground\n",
      "<class '__main__.ground'>\n"
     ]
    }
   ],
   "source": [
    "with open('tests/basic.txt') as f:\n",
    "    f.readline()\n",
    "    for line in f:\n",
    "        print(line)\n",
    "        parsing_result = grammar.parse(line)\n",
    "        print(parsing_result.is_valid)\n",
    "        if parsing_result.is_valid:\n",
    "            FIRST_CHILD = 0\n",
    "            start = parsing_result.tree.children[FIRST_CHILD].children[FIRST_CHILD]\n",
    "            component_parameters = start.children[FIRST_CHILD]\n",
    "            component_name = start.element.name\n",
    "            print(component_name)\n",
    "            print(component_warehouse[component_name])\n",
    "            \n",
    "            "
   ]
  },
  {
   "cell_type": "code",
   "execution_count": 39,
   "metadata": {},
   "outputs": [],
   "source": [
    "%matplotlib inline\n",
    "%config InlineBackend.figure_format = 'svg'"
   ]
  },
  {
   "cell_type": "code",
   "execution_count": 40,
   "metadata": {},
   "outputs": [
    {
     "data": {
      "image/png": "[encoded data removed]",
      "image/svg+xml": "<?xml version=\"1.0\" encoding=\"utf-8\" standalone=\"no\"?>\n<!DOCTYPE svg PUBLIC \"-//W3C//DTD SVG 1.1//EN\"\n  \"http://www.w3.org/Graphics/SVG/1.1/DTD/svg11.dtd\">\n<svg xmlns:xlink=\"http://www.w3.org/1999/xlink\" width=\"211.3008pt\" height=\"164.374pt\" viewBox=\"0 0 211.3008 164.374\" xmlns=\"http://www.w3.org/2000/svg\" version=\"1.1\">\n <metadata>\n  <rdf:RDF xmlns:dc=\"http://purl.org/dc/elements/1.1/\" xmlns:cc=\"http://creativecommons.org/ns#\" xmlns:rdf=\"http://www.w3.org/1999/02/22-rdf-syntax-ns#\">\n   <cc:Work>\n    <dc:type rdf:resource=\"http://purl.org/dc/dcmitype/StillImage\"/>\n    <dc:date>2022-12-28T07:58:32.831377</dc:date>\n    <dc:format>image/svg+xml</dc:format>\n    <dc:creator>\n     <cc:Agent>\n      <dc:title>Matplotlib v3.6.2, https://matplotlib.org/</dc:title>\n     </cc:Agent>\n    </dc:creator>\n   </cc:Work>\n  </rdf:RDF>\n </metadata>\n <defs>\n  <style type=\"text/css\">*{stroke-linejoin: round; stroke-linecap: butt}</style>\n </defs>\n <g id=\"figure_1\">\n  <g id=\"patch_1\">\n   <path d=\"M 0 164.374 \nL 211.3008 164.374 \nL 211.3008 0 \nL 0 0 \nz\n\" style=\"fill: #ffffff\"/>\n  </g>\n  <g id=\"axes_1\">\n   <g id=\"patch_2\">\n    <path d=\"M 56.3028 103.93 \nC 60.360407 103.93 64.252372 102.317895 67.121534 99.448734 \nC 69.990695 96.579572 71.6028 92.687607 71.6028 88.63 \nC 71.6028 84.572393 69.990695 80.680428 67.121534 77.811266 \nC 64.252372 74.942105 60.360407 73.33 56.3028 73.33 \nC 52.245193 73.33 48.353228 74.942105 45.484066 77.811266 \nC 42.614905 80.680428 41.0028 84.572393 41.0028 88.63 \nC 41.0028 92.687607 42.614905 96.579572 45.484066 99.448734 \nC 48.353228 102.317895 52.245193 103.93 56.3028 103.93 \nL 56.3028 103.93 \nz\n\" clip-path=\"url(#pe33cbb218c)\" style=\"fill: none; stroke: #000000; stroke-width: 2; stroke-linejoin: miter\"/>\n   </g>\n   <g id=\"line2d_1\">\n    <path d=\"M 56.3028 134.53 \nL 56.3028 103.93 \nL 56.3028 103.93 \nM 56.3028 73.33 \nL 56.3028 73.33 \nL 56.3028 42.73 \n\" clip-path=\"url(#pe33cbb218c)\" style=\"fill: none; stroke: #000000; stroke-width: 2; stroke-linecap: round\"/>\n   </g>\n   <g id=\"line2d_2\">\n    <path d=\"M 59.3628 96.28 \nL 53.2428 96.28 \n\" clip-path=\"url(#pe33cbb218c)\" style=\"fill: none; stroke: #000000; stroke-width: 2; stroke-linecap: round\"/>\n   </g>\n   <g id=\"line2d_3\">\n    <path d=\"M 56.3028 84.04 \nL 56.3028 77.92 \n\" clip-path=\"url(#pe33cbb218c)\" style=\"fill: none; stroke: #000000; stroke-width: 2; stroke-linecap: round\"/>\n   </g>\n   <g id=\"line2d_4\">\n    <path d=\"M 59.3628 80.98 \nL 53.2428 80.98 \n\" clip-path=\"url(#pe33cbb218c)\" style=\"fill: none; stroke: #000000; stroke-width: 2; stroke-linecap: round\"/>\n   </g>\n   <g id=\"line2d_5\">\n    <path d=\"M 56.3028 42.73 \nL 86.9028 42.73 \nL 89.4528 35.08 \nL 94.5528 50.38 \nL 99.6528 35.08 \nL 104.7528 50.38 \nL 109.8528 35.08 \nL 114.9528 50.38 \nL 117.5028 42.73 \nL 148.1028 42.73 \n\" clip-path=\"url(#pe33cbb218c)\" style=\"fill: none; stroke: #000000; stroke-width: 2; stroke-linecap: round\"/>\n   </g>\n   <g id=\"line2d_6\">\n    <path d=\"M 148.1028 42.73 \nL 148.1028 85.876 \nM 155.7528 85.876 \nL 140.4528 85.876 \nM 155.7528 91.384 \nL 140.4528 91.384 \nM 148.1028 91.384 \nL 148.1028 134.53 \n\" clip-path=\"url(#pe33cbb218c)\" style=\"fill: none; stroke: #000000; stroke-width: 2; stroke-linecap: round\"/>\n   </g>\n   <g id=\"line2d_7\">\n    <path d=\"M 148.1028 134.53 \nL 102.2028 134.53 \nL 56.3028 134.53 \n\" clip-path=\"url(#pe33cbb218c)\" style=\"fill: none; stroke: #000000; stroke-width: 2; stroke-linecap: round\"/>\n   </g>\n   <g id=\"line2d_8\">\n    <path d=\"M 56.3028 134.53 \nL 56.3028 146.77 \nL 48.6528 146.77 \nL 63.9528 146.77 \nM 50.9478 150.442 \nL 61.6578 150.442 \nM 54.7728 154.114 \nL 57.8328 154.114 \n\" clip-path=\"url(#pe33cbb218c)\" style=\"fill: none; stroke: #000000; stroke-width: 2; stroke-linecap: round\"/>\n   </g>\n   <g id=\"text_1\">\n    <g clip-path=\"url(#pe33cbb218c)\">\n     <!-- 10V -->\n     <g transform=\"translate(13.485769 92.079219) scale(0.125 -0.125)\">\n      <defs>\n       <path id=\"DejaVuSans-31\" d=\"M 794 531 \nL 1825 531 \nL 1825 4091 \nL 703 3866 \nL 703 4441 \nL 1819 4666 \nL 2450 4666 \nL 2450 531 \nL 3481 531 \nL 3481 0 \nL 794 0 \nL 794 531 \nz\n\" transform=\"scale(0.015625)\"/>\n       <path id=\"DejaVuSans-30\" d=\"M 2034 4250 \nQ 1547 4250 1301 3770 \nQ 1056 3291 1056 2328 \nQ 1056 1369 1301 889 \nQ 1547 409 2034 409 \nQ 2525 409 2770 889 \nQ 3016 1369 3016 2328 \nQ 3016 3291 2770 3770 \nQ 2525 4250 2034 4250 \nz\nM 2034 4750 \nQ 2819 4750 3233 4129 \nQ 3647 3509 3647 2328 \nQ 3647 1150 3233 529 \nQ 2819 -91 2034 -91 \nQ 1250 -91 836 529 \nQ 422 1150 422 2328 \nQ 422 3509 836 4129 \nQ 1250 4750 2034 4750 \nz\n\" transform=\"scale(0.015625)\"/>\n       <path id=\"DejaVuSans-56\" d=\"M 1831 0 \nL 50 4666 \nL 709 4666 \nL 2188 738 \nL 3669 4666 \nL 4325 4666 \nL 2547 0 \nL 1831 0 \nz\n\" transform=\"scale(0.015625)\"/>\n      </defs>\n      <use xlink:href=\"#DejaVuSans-31\"/>\n      <use xlink:href=\"#DejaVuSans-30\" x=\"63.623047\"/>\n      <use xlink:href=\"#DejaVuSans-56\" x=\"127.246094\"/>\n     </g>\n    </g>\n   </g>\n   <g id=\"text_2\">\n    <g clip-path=\"url(#pe33cbb218c)\">\n     <!-- 100KΩ -->\n     <g transform=\"translate(81.398113 29.420391) scale(0.125 -0.125)\">\n      <defs>\n       <path id=\"DejaVuSans-4b\" d=\"M 628 4666 \nL 1259 4666 \nL 1259 2694 \nL 3353 4666 \nL 4166 4666 \nL 1850 2491 \nL 4331 0 \nL 3500 0 \nL 1259 2247 \nL 1259 0 \nL 628 0 \nL 628 4666 \nz\n\" transform=\"scale(0.015625)\"/>\n       <path id=\"DejaVuSans-3a9\" d=\"M 4647 556 \nL 4647 0 \nL 2772 0 \nL 2772 556 \nQ 3325 859 3634 1378 \nQ 3944 1897 3944 2528 \nQ 3944 3278 3531 3731 \nQ 3119 4184 2444 4184 \nQ 1769 4184 1355 3729 \nQ 941 3275 941 2528 \nQ 941 1897 1250 1378 \nQ 1563 859 2119 556 \nL 2119 0 \nL 244 0 \nL 244 556 \nL 1241 556 \nQ 747 991 519 1456 \nQ 294 1922 294 2497 \nQ 294 3491 894 4106 \nQ 1491 4722 2444 4722 \nQ 3391 4722 3994 4106 \nQ 4594 3494 4594 2528 \nQ 4594 1922 4372 1459 \nQ 4150 997 3647 556 \nL 4647 556 \nz\n\" transform=\"scale(0.015625)\"/>\n      </defs>\n      <use xlink:href=\"#DejaVuSans-31\"/>\n      <use xlink:href=\"#DejaVuSans-30\" x=\"63.623047\"/>\n      <use xlink:href=\"#DejaVuSans-30\" x=\"127.246094\"/>\n      <use xlink:href=\"#DejaVuSans-4b\" x=\"190.869141\"/>\n      <use xlink:href=\"#DejaVuSans-3a9\" x=\"256.445312\"/>\n     </g>\n    </g>\n   </g>\n   <g id=\"text_3\">\n    <g clip-path=\"url(#pe33cbb218c)\">\n     <!-- 0.1μF -->\n     <g transform=\"translate(158.8128 92.079219) scale(0.125 -0.125)\">\n      <defs>\n       <path id=\"DejaVuSans-2e\" d=\"M 684 794 \nL 1344 794 \nL 1344 0 \nL 684 0 \nL 684 794 \nz\n\" transform=\"scale(0.015625)\"/>\n       <path id=\"DejaVuSans-3bc\" d=\"M 544 -1331 \nL 544 3500 \nL 1119 3500 \nL 1119 1325 \nQ 1119 872 1334 640 \nQ 1550 409 1972 409 \nQ 2434 409 2667 671 \nQ 2900 934 2900 1459 \nL 2900 3500 \nL 3475 3500 \nL 3475 806 \nQ 3475 619 3529 530 \nQ 3584 441 3700 441 \nQ 3728 441 3778 458 \nQ 3828 475 3916 513 \nL 3916 50 \nQ 3788 -22 3673 -56 \nQ 3559 -91 3450 -91 \nQ 3234 -91 3106 31 \nQ 2978 153 2931 403 \nQ 2775 156 2548 32 \nQ 2322 -91 2016 -91 \nQ 1697 -91 1473 31 \nQ 1250 153 1119 397 \nL 1119 -1331 \nL 544 -1331 \nz\n\" transform=\"scale(0.015625)\"/>\n       <path id=\"DejaVuSans-46\" d=\"M 628 4666 \nL 3309 4666 \nL 3309 4134 \nL 1259 4134 \nL 1259 2759 \nL 3109 2759 \nL 3109 2228 \nL 1259 2228 \nL 1259 0 \nL 628 0 \nL 628 4666 \nz\n\" transform=\"scale(0.015625)\"/>\n      </defs>\n      <use xlink:href=\"#DejaVuSans-30\"/>\n      <use xlink:href=\"#DejaVuSans-2e\" x=\"63.623047\"/>\n      <use xlink:href=\"#DejaVuSans-31\" x=\"95.410156\"/>\n      <use xlink:href=\"#DejaVuSans-3bc\" x=\"159.033203\"/>\n      <use xlink:href=\"#DejaVuSans-46\" x=\"222.65625\"/>\n     </g>\n    </g>\n   </g>\n  </g>\n </g>\n <defs>\n  <clipPath id=\"pe33cbb218c\">\n   <rect x=\"7.2\" y=\"7.2\" width=\"196.9008\" height=\"149.974\"/>\n  </clipPath>\n </defs>\n</svg>\n",
      "text/plain": [
       "<schemdraw.backends.mpl.Figure object at 0x000001A9BE199FD0>"
      ]
     },
     "metadata": {},
     "output_type": "display_data"
    }
   ],
   "source": [
    "import schemdraw\n",
    "import schemdraw.elements as elm\n",
    "\n",
    "with schemdraw.Drawing() as d:\n",
    "    d += elm.SourceV().label('10V')\n",
    "    d += elm.Resistor().right().label('100KΩ')\n",
    "    d += elm.Capacitor().down().label('0.1μF', loc='bottom')\n",
    "    d += elm.Line().left()\n",
    "    d += elm.Ground()\n",
    "    \n"
   ]
  },
  {
   "cell_type": "code",
   "execution_count": 41,
   "metadata": {},
   "outputs": [
    {
     "data": {
      "image/svg+xml": "<svg xmlns=\"http://www.w3.org/2000/svg\" xml:lang=\"en\" height=\"156.316pt\" width=\"206.00320000000002pt\" viewBox=\"-50.7512 -133.58 206.00320000000002 156.316\"><circle cx=\"2.975891721928068e-15\" cy=\"-48.599999999999994\" r=\"16.2\" style=\"stroke:black;fill:none;stroke-width:2;\" /><path d=\"M 0.0,-0.0 L 1.9839278146187122e-15,-32.4 L 1.9839278146187122e-15,-32.4 M 3.9678556292374245e-15,-64.8 L 3.9678556292374245e-15,-64.8 L 5.951783443856136e-15,-97.19999999999999\" style=\"stroke:black;fill:none;stroke-width:2;stroke-linecap:round;stroke-linejoin:round;\" /><path d=\"M 3.240000000000003,-40.5 L -3.2399999999999975,-40.5\" style=\"stroke:black;fill:none;stroke-width:2;stroke-linecap:round;stroke-linejoin:round;\" /><path d=\"M 3.2734808941208748e-15,-53.459999999999994 L 3.670266457044618e-15,-59.94\" style=\"stroke:black;fill:none;stroke-width:2;stroke-linecap:round;stroke-linejoin:round;\" /><path d=\"M 3.2400000000000038,-56.699999999999996 L -3.2399999999999967,-56.699999999999996\" style=\"stroke:black;fill:none;stroke-width:2;stroke-linecap:round;stroke-linejoin:round;\" /><path d=\"M 5.951783443856136e-15,-97.19999999999999 L 32.400000000000006,-97.19999999999999 L 35.1,-105.3 L 40.50000000000001,-89.1 L 45.9,-105.3 L 51.300000000000004,-89.1 L 56.7,-105.3 L 62.1,-89.1 L 64.8,-97.19999999999999 L 97.19999999999999,-97.19999999999999\" style=\"stroke:black;fill:none;stroke-width:2;stroke-linecap:round;stroke-linejoin:round;\" /><path d=\"M 97.19999999999999,-97.19999999999999 L 97.19999999999997,-51.516 M 105.29999999999998,-51.516 L 89.09999999999998,-51.516 M 105.29999999999998,-45.684000000000005 L 89.09999999999998,-45.684000000000005 M 97.19999999999997,-45.684000000000005 L 97.19999999999997,-0.0\" style=\"stroke:black;fill:none;stroke-width:2;stroke-linecap:round;stroke-linejoin:round;\" /><path d=\"M 97.19999999999997,-0.0 L 48.59999999999998,-5.951783443856136e-15 L -1.4388490399142028e-14,-1.1903566887712272e-14\" style=\"stroke:black;fill:none;stroke-width:2;stroke-linecap:round;stroke-linejoin:round;\" /><path d=\"M -1.4388490399142028e-14,-1.1903566887712272e-14 L -1.4388490399142028e-14,12.959999999999988 L -8.100000000000014,12.959999999999988 L 8.099999999999985,12.959999999999988 M -5.670000000000014,16.84799999999999 L 5.669999999999985,16.84799999999999 M -1.6200000000000143,20.73599999999999 L 1.6199999999999857,20.73599999999999\" style=\"stroke:black;fill:none;stroke-width:2;stroke-linecap:round;stroke-linejoin:round;\" /><text x=\"-19.439999999999994\" y=\"-56.300000000000004\" fill=\"black\" font-size=\"14\" font-family=\"sans-serif\" text-anchor=\"end\" transform=\"rotate(0 -19.439999999999994 -50.7)\"><tspan x=\"-19.439999999999994\" dy=\"11.200000000000001\">10V</tspan></text><text x=\"48.60000000000001\" y=\"-121.84\" fill=\"black\" font-size=\"14\" font-family=\"sans-serif\" text-anchor=\"middle\" transform=\"rotate(0 48.60000000000001 -110.64)\"><tspan x=\"48.60000000000001\" dy=\"11.200000000000001\">100KΩ</tspan></text><text x=\"108.53999999999998\" y=\"-56.300000000000004\" fill=\"black\" font-size=\"14\" font-family=\"sans-serif\" text-anchor=\"start\" transform=\"rotate(0 108.53999999999998 -50.7)\"><tspan x=\"108.53999999999998\" dy=\"11.200000000000001\">0.1μF</tspan></text></svg>",
      "text/plain": [
       "<svg xmlns=\"http://www.w3.org/2000/svg\" xml:lang=\"en\" height=\"156.316pt\" width=\"206.00320000000002pt\" viewBox=\"-50.7512 -133.58 206.00320000000002 156.316\"><circle cx=\"2.975891721928068e-15\" cy=\"-48.599999999999994\" r=\"16.2\" style=\"stroke:black;fill:none;stroke-width:2;\" /><path d=\"M 0.0,-0.0 L 1.9839278146187122e-15,-32.4 L 1.9839278146187122e-15,-32.4 M 3.9678556292374245e-15,-64.8 L 3.9678556292374245e-15,-64.8 L 5.951783443856136e-15,-97.19999999999999\" style=\"stroke:black;fill:none;stroke-width:2;stroke-linecap:round;stroke-linejoin:round;\" /><path d=\"M 3.240000000000003,-40.5 L -3.2399999999999975,-40.5\" style=\"stroke:black;fill:none;stroke-width:2;stroke-linecap:round;stroke-linejoin:round;\" /><path d=\"M 3.2734808941208748e-15,-53.459999999999994 L 3.670266457044618e-15,-59.94\" style=\"stroke:black;fill:none;stroke-width:2;stroke-linecap:round;stroke-linejoin:round;\" /><path d=\"M 3.2400000000000038,-56.699999999999996 L -3.2399999999999967,-56.699999999999996\" style=\"stroke:black;fill:none;stroke-width:2;stroke-linecap:round;stroke-linejoin:round;\" /><path d=\"M 5.951783443856136e-15,-97.19999999999999 L 32.400000000000006,-97.19999999999999 L 35.1,-105.3 L 40.50000000000001,-89.1 L 45.9,-105.3 L 51.300000000000004,-89.1 L 56.7,-105.3 L 62.1,-89.1 L 64.8,-97.19999999999999 L 97.19999999999999,-97.19999999999999\" style=\"stroke:black;fill:none;stroke-width:2;stroke-linecap:round;stroke-linejoin:round;\" /><path d=\"M 97.19999999999999,-97.19999999999999 L 97.19999999999997,-51.516 M 105.29999999999998,-51.516 L 89.09999999999998,-51.516 M 105.29999999999998,-45.684000000000005 L 89.09999999999998,-45.684000000000005 M 97.19999999999997,-45.684000000000005 L 97.19999999999997,-0.0\" style=\"stroke:black;fill:none;stroke-width:2;stroke-linecap:round;stroke-linejoin:round;\" /><path d=\"M 97.19999999999997,-0.0 L 48.59999999999998,-5.951783443856136e-15 L -1.4388490399142028e-14,-1.1903566887712272e-14\" style=\"stroke:black;fill:none;stroke-width:2;stroke-linecap:round;stroke-linejoin:round;\" /><path d=\"M -1.4388490399142028e-14,-1.1903566887712272e-14 L -1.4388490399142028e-14,12.959999999999988 L -8.100000000000014,12.959999999999988 L 8.099999999999985,12.959999999999988 M -5.670000000000014,16.84799999999999 L 5.669999999999985,16.84799999999999 M -1.6200000000000143,20.73599999999999 L 1.6199999999999857,20.73599999999999\" style=\"stroke:black;fill:none;stroke-width:2;stroke-linecap:round;stroke-linejoin:round;\" /><text x=\"-19.439999999999994\" y=\"-56.300000000000004\" fill=\"black\" font-size=\"14\" font-family=\"sans-serif\" text-anchor=\"end\" transform=\"rotate(0 -19.439999999999994 -50.7)\"><tspan x=\"-19.439999999999994\" dy=\"11.200000000000001\">10V</tspan></text><text x=\"48.60000000000001\" y=\"-121.84\" fill=\"black\" font-size=\"14\" font-family=\"sans-serif\" text-anchor=\"middle\" transform=\"rotate(0 48.60000000000001 -110.64)\"><tspan x=\"48.60000000000001\" dy=\"11.200000000000001\">100KΩ</tspan></text><text x=\"108.53999999999998\" y=\"-56.300000000000004\" fill=\"black\" font-size=\"14\" font-family=\"sans-serif\" text-anchor=\"start\" transform=\"rotate(0 108.53999999999998 -50.7)\"><tspan x=\"108.53999999999998\" dy=\"11.200000000000001\">0.1μF</tspan></text></svg>"
      ]
     },
     "metadata": {},
     "output_type": "display_data"
    }
   ],
   "source": [
    "import schemdraw\n",
    "import schemdraw.elements as elm\n",
    "\n",
    "with schemdraw.Drawing(show=True, backend='svg') as d:\n",
    "    d += elm.SourceV().label('10V')\n",
    "    d += elm.Resistor().right().label('100KΩ')\n",
    "    d += elm.Capacitor().down().label('0.1μF', loc='bottom')\n",
    "    d += elm.Line().left()\n",
    "    d += elm.Ground()"
   ]
  },
  {
   "cell_type": "code",
   "execution_count": 42,
   "metadata": {},
   "outputs": [
    {
     "data": {
      "image/png": "[encoded data removed]",
      "image/svg+xml": "<?xml version=\"1.0\" encoding=\"utf-8\" standalone=\"no\"?>\n<!DOCTYPE svg PUBLIC \"-//W3C//DTD SVG 1.1//EN\"\n  \"http://www.w3.org/Graphics/SVG/1.1/DTD/svg11.dtd\">\n<svg xmlns:xlink=\"http://www.w3.org/1999/xlink\" width=\"203.0898pt\" height=\"164.374pt\" viewBox=\"0 0 203.0898 164.374\" xmlns=\"http://www.w3.org/2000/svg\" version=\"1.1\">\n <metadata>\n  <rdf:RDF xmlns:dc=\"http://purl.org/dc/elements/1.1/\" xmlns:cc=\"http://creativecommons.org/ns#\" xmlns:rdf=\"http://www.w3.org/1999/02/22-rdf-syntax-ns#\">\n   <cc:Work>\n    <dc:type rdf:resource=\"http://purl.org/dc/dcmitype/StillImage\"/>\n    <dc:date>2022-12-28T07:58:33.592608</dc:date>\n    <dc:format>image/svg+xml</dc:format>\n    <dc:creator>\n     <cc:Agent>\n      <dc:title>Matplotlib v3.6.2, https://matplotlib.org/</dc:title>\n     </cc:Agent>\n    </dc:creator>\n   </cc:Work>\n  </rdf:RDF>\n </metadata>\n <defs>\n  <style type=\"text/css\">*{stroke-linejoin: round; stroke-linecap: butt}</style>\n </defs>\n <g id=\"figure_1\">\n  <g id=\"patch_1\">\n   <path d=\"M 0 164.374 \nL 203.0898 164.374 \nL 203.0898 0 \nL 0 0 \nz\n\" style=\"fill: #ffffff\"/>\n  </g>\n  <g id=\"axes_1\">\n   <g id=\"patch_2\">\n    <path d=\"M 48.0918 103.93 \nC 52.149407 103.93 56.041372 102.317895 58.910534 99.448734 \nC 61.779695 96.579572 63.3918 92.687607 63.3918 88.63 \nC 63.3918 84.572393 61.779695 80.680428 58.910534 77.811266 \nC 56.041372 74.942105 52.149407 73.33 48.0918 73.33 \nC 44.034193 73.33 40.142228 74.942105 37.273066 77.811266 \nC 34.403905 80.680428 32.7918 84.572393 32.7918 88.63 \nC 32.7918 92.687607 34.403905 96.579572 37.273066 99.448734 \nC 40.142228 102.317895 44.034193 103.93 48.0918 103.93 \nL 48.0918 103.93 \nz\n\" clip-path=\"url(#p3443af451a)\" style=\"fill: none; stroke: #000000; stroke-width: 2; stroke-linejoin: miter\"/>\n   </g>\n   <g id=\"line2d_1\">\n    <path d=\"M 48.0918 134.53 \nL 48.0918 103.93 \nL 48.0918 103.93 \nM 48.0918 73.33 \nL 48.0918 73.33 \nL 48.0918 42.73 \n\" clip-path=\"url(#p3443af451a)\" style=\"fill: none; stroke: #000000; stroke-width: 2; stroke-linecap: round\"/>\n   </g>\n   <g id=\"line2d_2\">\n    <path d=\"M 51.1518 96.28 \nL 45.0318 96.28 \n\" clip-path=\"url(#p3443af451a)\" style=\"fill: none; stroke: #000000; stroke-width: 2; stroke-linecap: round\"/>\n   </g>\n   <g id=\"line2d_3\">\n    <path d=\"M 48.0918 84.04 \nL 48.0918 77.92 \n\" clip-path=\"url(#p3443af451a)\" style=\"fill: none; stroke: #000000; stroke-width: 2; stroke-linecap: round\"/>\n   </g>\n   <g id=\"line2d_4\">\n    <path d=\"M 51.1518 80.98 \nL 45.0318 80.98 \n\" clip-path=\"url(#p3443af451a)\" style=\"fill: none; stroke: #000000; stroke-width: 2; stroke-linecap: round\"/>\n   </g>\n   <g id=\"line2d_5\">\n    <path d=\"M 48.0918 42.73 \nL 78.6918 42.73 \nL 81.2418 35.08 \nL 86.3418 50.38 \nL 91.4418 35.08 \nL 96.5418 50.38 \nL 101.6418 35.08 \nL 106.7418 50.38 \nL 109.2918 42.73 \nL 139.8918 42.73 \n\" clip-path=\"url(#p3443af451a)\" style=\"fill: none; stroke: #000000; stroke-width: 2; stroke-linecap: round\"/>\n   </g>\n   <g id=\"line2d_6\">\n    <path d=\"M 139.8918 42.73 \nL 139.8918 85.876 \nM 147.5418 85.876 \nL 132.2418 85.876 \nM 147.5418 91.384 \nL 132.2418 91.384 \nM 139.8918 91.384 \nL 139.8918 134.53 \n\" clip-path=\"url(#p3443af451a)\" style=\"fill: none; stroke: #000000; stroke-width: 2; stroke-linecap: round\"/>\n   </g>\n   <g id=\"line2d_7\">\n    <path d=\"M 139.8918 134.53 \nL 93.9918 134.53 \nL 48.0918 134.53 \n\" clip-path=\"url(#p3443af451a)\" style=\"fill: none; stroke: #000000; stroke-width: 2; stroke-linecap: round\"/>\n   </g>\n   <g id=\"line2d_8\">\n    <path d=\"M 48.0918 134.53 \nL 48.0918 146.77 \nL 40.4418 146.77 \nL 55.7418 146.77 \nM 42.7368 150.442 \nL 53.4468 150.442 \nM 46.5618 154.114 \nL 49.6218 154.114 \n\" clip-path=\"url(#p3443af451a)\" style=\"fill: none; stroke: #000000; stroke-width: 2; stroke-linecap: round\"/>\n   </g>\n   <g id=\"text_1\">\n    <g clip-path=\"url(#p3443af451a)\">\n     <!-- 10V -->\n     <g transform=\"translate(66.4518 92.079219) scale(0.125 -0.125)\">\n      <defs>\n       <path id=\"DejaVuSans-31\" d=\"M 794 531 \nL 1825 531 \nL 1825 4091 \nL 703 3866 \nL 703 4441 \nL 1819 4666 \nL 2450 4666 \nL 2450 531 \nL 3481 531 \nL 3481 0 \nL 794 0 \nL 794 531 \nz\n\" transform=\"scale(0.015625)\"/>\n       <path id=\"DejaVuSans-30\" d=\"M 2034 4250 \nQ 1547 4250 1301 3770 \nQ 1056 3291 1056 2328 \nQ 1056 1369 1301 889 \nQ 1547 409 2034 409 \nQ 2525 409 2770 889 \nQ 3016 1369 3016 2328 \nQ 3016 3291 2770 3770 \nQ 2525 4250 2034 4250 \nz\nM 2034 4750 \nQ 2819 4750 3233 4129 \nQ 3647 3509 3647 2328 \nQ 3647 1150 3233 529 \nQ 2819 -91 2034 -91 \nQ 1250 -91 836 529 \nQ 422 1150 422 2328 \nQ 422 3509 836 4129 \nQ 1250 4750 2034 4750 \nz\n\" transform=\"scale(0.015625)\"/>\n       <path id=\"DejaVuSans-56\" d=\"M 1831 0 \nL 50 4666 \nL 709 4666 \nL 2188 738 \nL 3669 4666 \nL 4325 4666 \nL 2547 0 \nL 1831 0 \nz\n\" transform=\"scale(0.015625)\"/>\n      </defs>\n      <use xlink:href=\"#DejaVuSans-31\"/>\n      <use xlink:href=\"#DejaVuSans-30\" x=\"63.623047\"/>\n      <use xlink:href=\"#DejaVuSans-56\" x=\"127.246094\"/>\n     </g>\n    </g>\n   </g>\n   <g id=\"text_2\">\n    <g clip-path=\"url(#p3443af451a)\">\n     <!-- $V_1$ -->\n     <g transform=\"translate(15.2318 92.079219) scale(0.125 -0.125)\">\n      <defs>\n       <path id=\"DejaVuSans-Oblique-56\" d=\"M 1319 0 \nL 500 4666 \nL 1119 4666 \nL 1797 653 \nL 4063 4666 \nL 4750 4666 \nL 2053 0 \nL 1319 0 \nz\n\" transform=\"scale(0.015625)\"/>\n      </defs>\n      <use xlink:href=\"#DejaVuSans-Oblique-56\" transform=\"translate(0 0.09375)\"/>\n      <use xlink:href=\"#DejaVuSans-31\" transform=\"translate(68.408203 -16.3125) scale(0.7)\"/>\n     </g>\n    </g>\n   </g>\n   <g id=\"text_3\">\n    <g clip-path=\"url(#p3443af451a)\">\n     <!-- 100KΩ -->\n     <g transform=\"translate(73.187113 62.938047) scale(0.125 -0.125)\">\n      <defs>\n       <path id=\"DejaVuSans-4b\" d=\"M 628 4666 \nL 1259 4666 \nL 1259 2694 \nL 3353 4666 \nL 4166 4666 \nL 1850 2491 \nL 4331 0 \nL 3500 0 \nL 1259 2247 \nL 1259 0 \nL 628 0 \nL 628 4666 \nz\n\" transform=\"scale(0.015625)\"/>\n       <path id=\"DejaVuSans-3a9\" d=\"M 4647 556 \nL 4647 0 \nL 2772 0 \nL 2772 556 \nQ 3325 859 3634 1378 \nQ 3944 1897 3944 2528 \nQ 3944 3278 3531 3731 \nQ 3119 4184 2444 4184 \nQ 1769 4184 1355 3729 \nQ 941 3275 941 2528 \nQ 941 1897 1250 1378 \nQ 1563 859 2119 556 \nL 2119 0 \nL 244 0 \nL 244 556 \nL 1241 556 \nQ 747 991 519 1456 \nQ 294 1922 294 2497 \nQ 294 3491 894 4106 \nQ 1491 4722 2444 4722 \nQ 3391 4722 3994 4106 \nQ 4594 3494 4594 2528 \nQ 4594 1922 4372 1459 \nQ 4150 997 3647 556 \nL 4647 556 \nz\n\" transform=\"scale(0.015625)\"/>\n      </defs>\n      <use xlink:href=\"#DejaVuSans-31\"/>\n      <use xlink:href=\"#DejaVuSans-30\" x=\"63.623047\"/>\n      <use xlink:href=\"#DejaVuSans-30\" x=\"127.246094\"/>\n      <use xlink:href=\"#DejaVuSans-4b\" x=\"190.869141\"/>\n      <use xlink:href=\"#DejaVuSans-3a9\" x=\"256.445312\"/>\n     </g>\n    </g>\n   </g>\n   <g id=\"text_4\">\n    <g clip-path=\"url(#p3443af451a)\">\n     <!-- $R_1$ -->\n     <g transform=\"translate(86.6793 29.420391) scale(0.125 -0.125)\">\n      <defs>\n       <path id=\"DejaVuSans-Oblique-52\" d=\"M 1613 4147 \nL 1294 2491 \nL 2106 2491 \nQ 2584 2491 2879 2755 \nQ 3175 3019 3175 3444 \nQ 3175 3784 2976 3965 \nQ 2778 4147 2406 4147 \nL 1613 4147 \nz\nM 2772 2241 \nQ 2972 2194 3105 2009 \nQ 3238 1825 3413 1275 \nL 3809 0 \nL 3144 0 \nL 2778 1197 \nQ 2638 1659 2453 1815 \nQ 2269 1972 1888 1972 \nL 1191 1972 \nL 806 0 \nL 172 0 \nL 1081 4666 \nL 2503 4666 \nQ 3150 4666 3495 4373 \nQ 3841 4081 3841 3531 \nQ 3841 3044 3547 2687 \nQ 3253 2331 2772 2241 \nz\n\" transform=\"scale(0.015625)\"/>\n      </defs>\n      <use xlink:href=\"#DejaVuSans-Oblique-52\" transform=\"translate(0 0.09375)\"/>\n      <use xlink:href=\"#DejaVuSans-31\" transform=\"translate(69.482422 -16.3125) scale(0.7)\"/>\n     </g>\n    </g>\n   </g>\n   <g id=\"text_5\">\n    <g clip-path=\"url(#p3443af451a)\">\n     <!-- 0.1μF -->\n     <g transform=\"translate(150.6018 92.079219) scale(0.125 -0.125)\">\n      <defs>\n       <path id=\"DejaVuSans-2e\" d=\"M 684 794 \nL 1344 794 \nL 1344 0 \nL 684 0 \nL 684 794 \nz\n\" transform=\"scale(0.015625)\"/>\n       <path id=\"DejaVuSans-3bc\" d=\"M 544 -1331 \nL 544 3500 \nL 1119 3500 \nL 1119 1325 \nQ 1119 872 1334 640 \nQ 1550 409 1972 409 \nQ 2434 409 2667 671 \nQ 2900 934 2900 1459 \nL 2900 3500 \nL 3475 3500 \nL 3475 806 \nQ 3475 619 3529 530 \nQ 3584 441 3700 441 \nQ 3728 441 3778 458 \nQ 3828 475 3916 513 \nL 3916 50 \nQ 3788 -22 3673 -56 \nQ 3559 -91 3450 -91 \nQ 3234 -91 3106 31 \nQ 2978 153 2931 403 \nQ 2775 156 2548 32 \nQ 2322 -91 2016 -91 \nQ 1697 -91 1473 31 \nQ 1250 153 1119 397 \nL 1119 -1331 \nL 544 -1331 \nz\n\" transform=\"scale(0.015625)\"/>\n       <path id=\"DejaVuSans-46\" d=\"M 628 4666 \nL 3309 4666 \nL 3309 4134 \nL 1259 4134 \nL 1259 2759 \nL 3109 2759 \nL 3109 2228 \nL 1259 2228 \nL 1259 0 \nL 628 0 \nL 628 4666 \nz\n\" transform=\"scale(0.015625)\"/>\n      </defs>\n      <use xlink:href=\"#DejaVuSans-30\"/>\n      <use xlink:href=\"#DejaVuSans-2e\" x=\"63.623047\"/>\n      <use xlink:href=\"#DejaVuSans-31\" x=\"95.410156\"/>\n      <use xlink:href=\"#DejaVuSans-3bc\" x=\"159.033203\"/>\n      <use xlink:href=\"#DejaVuSans-46\" x=\"222.65625\"/>\n     </g>\n    </g>\n   </g>\n   <g id=\"text_6\">\n    <g clip-path=\"url(#p3443af451a)\">\n     <!-- $C_1$ -->\n     <g transform=\"translate(114.4318 92.079219) scale(0.125 -0.125)\">\n      <defs>\n       <path id=\"DejaVuSans-Oblique-43\" d=\"M 4447 4306 \nL 4319 3641 \nQ 4019 3944 3683 4091 \nQ 3347 4238 2956 4238 \nQ 2422 4238 2017 3981 \nQ 1613 3725 1319 3200 \nQ 1131 2863 1032 2486 \nQ 934 2109 934 1728 \nQ 934 1091 1264 756 \nQ 1594 422 2222 422 \nQ 2656 422 3056 561 \nQ 3456 700 3834 978 \nL 3688 231 \nQ 3316 72 2936 -9 \nQ 2556 -91 2175 -91 \nQ 1278 -91 773 396 \nQ 269 884 269 1753 \nQ 269 2309 461 2846 \nQ 653 3384 1013 3828 \nQ 1394 4300 1883 4525 \nQ 2372 4750 3022 4750 \nQ 3422 4750 3780 4639 \nQ 4138 4528 4447 4306 \nz\n\" transform=\"scale(0.015625)\"/>\n      </defs>\n      <use xlink:href=\"#DejaVuSans-Oblique-43\" transform=\"translate(0 0.78125)\"/>\n      <use xlink:href=\"#DejaVuSans-31\" transform=\"translate(69.824219 -15.625) scale(0.7)\"/>\n     </g>\n    </g>\n   </g>\n  </g>\n </g>\n <defs>\n  <clipPath id=\"p3443af451a\">\n   <rect x=\"7.2\" y=\"7.2\" width=\"188.6898\" height=\"149.974\"/>\n  </clipPath>\n </defs>\n</svg>\n",
      "text/plain": [
       "<schemdraw.backends.mpl.Figure object at 0x000001A9C5B1B3D0>"
      ]
     },
     "metadata": {},
     "output_type": "display_data"
    }
   ],
   "source": [
    "import schemdraw\n",
    "import schemdraw.elements as elm\n",
    "\n",
    "with schemdraw.Drawing() as d:\n",
    "    d += elm.SourceV().label('10V', loc='bottom').label('$V_1$', loc='top')\n",
    "    d += elm.Resistor().right().label('100KΩ', loc='bottom').label('$R_1$', loc='top')\n",
    "    d += elm.Capacitor().down().label('0.1μF', loc='bottom').label('$C_1$', loc='top')\n",
    "    d += elm.Line().left()\n",
    "    d += elm.Ground()"
   ]
  }
 ],
 "metadata": {
  "kernelspec": {
   "display_name": "circuitjs2schemdraw-KcAC9oYf-py3.11",
   "language": "python",
   "name": "python3"
  },
  "language_info": {
   "codemirror_mode": {
    "name": "ipython",
    "version": 3
   },
   "file_extension": ".py",
   "mimetype": "text/x-python",
   "name": "python",
   "nbconvert_exporter": "python",
   "pygments_lexer": "ipython3",
   "version": "3.11.0"
  },
  "orig_nbformat": 4,
  "vscode": {
   "interpreter": {
    "hash": "0ebbd0ba787e408e4afacd9a353ff5c02207276226e9df787a88be8eaabafe3d"
   }
  }
 },
 "nbformat": 4,
 "nbformat_minor": 2
}
