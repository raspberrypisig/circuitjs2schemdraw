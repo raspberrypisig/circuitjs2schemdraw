{
 "cells": [
  {
   "cell_type": "code",
   "execution_count": 74,
   "metadata": {},
   "outputs": [],
   "source": [
    "from pyleri import (\n",
    "    Choice,\n",
    "    Grammar,\n",
    "    Keyword,\n",
    "    List,\n",
    "    Optional,\n",
    "    Regex,\n",
    "    Repeat,\n",
    "    Ref,\n",
    "    Sequence)\n",
    "\n",
    "from abc import ABC, abstractmethod\n",
    "import json"
   ]
  },
  {
   "cell_type": "code",
   "execution_count": 75,
   "metadata": {},
   "outputs": [],
   "source": [
    "class ElectronicComponent(ABC):\n",
    "    @abstractmethod\n",
    "    def getToken(self):\n",
    "        pass\n",
    "\n",
    "    def number_literal(self):\n",
    "        return Regex('[0-9]+')\n",
    "\n",
    "    def coordinates(self):\n",
    "        coords = Repeat(self.number_literal, mi=4, ma=4)\n",
    "        return Sequence(coords)"
   ]
  },
  {
   "cell_type": "code",
   "execution_count": 76,
   "metadata": {},
   "outputs": [],
   "source": [
    "class Resistor(ElectronicComponent):\n",
    "    def getToken(self):\n",
    "        return Sequence(Keyword('r'), self.coordinates(), self.number_literal, self.number_literal)"
   ]
  },
  {
   "cell_type": "code",
   "execution_count": 82,
   "metadata": {},
   "outputs": [
    {
     "name": "stdout",
     "output_type": "stream",
     "text": [
      "True\n",
      "False\n",
      "{\n",
      "  \"start\": 0,\n",
      "  \"end\": 20,\n",
      "  \"name\": \"START\",\n",
      "  \"element\": \"Ref\",\n",
      "  \"string\": \"r 240 80 448 80 0 10\",\n",
      "  \"children\": [\n",
      "    {\n",
      "      \"start\": 0,\n",
      "      \"end\": 20,\n",
      "      \"name\": \"resistor\",\n",
      "      \"element\": \"Sequence\",\n",
      "      \"string\": \"r 240 80 448 80 0 10\",\n",
      "      \"children\": [\n",
      "        {\n",
      "          \"start\": 0,\n",
      "          \"end\": 1,\n",
      "          \"name\": null,\n",
      "          \"element\": \"Keyword\",\n",
      "          \"string\": \"r\",\n",
      "          \"children\": []\n",
      "        },\n",
      "        {\n",
      "          \"start\": 2,\n",
      "          \"end\": 15,\n",
      "          \"name\": \"coordinates\",\n",
      "          \"element\": \"Repeat\",\n",
      "          \"string\": \"240 80 448 80\",\n",
      "          \"children\": [\n",
      "            {\n",
      "              \"start\": 2,\n",
      "              \"end\": 5,\n",
      "              \"name\": \"number_literal\",\n",
      "              \"element\": \"Regex\",\n",
      "              \"string\": \"240\",\n",
      "              \"children\": []\n",
      "            },\n",
      "            {\n",
      "              \"start\": 6,\n",
      "              \"end\": 8,\n",
      "              \"name\": \"number_literal\",\n",
      "              \"element\": \"Regex\",\n",
      "              \"string\": \"80\",\n",
      "              \"children\": []\n",
      "            },\n",
      "            {\n",
      "              \"start\": 9,\n",
      "              \"end\": 12,\n",
      "              \"name\": \"number_literal\",\n",
      "              \"element\": \"Regex\",\n",
      "              \"string\": \"448\",\n",
      "              \"children\": []\n",
      "            },\n",
      "            {\n",
      "              \"start\": 13,\n",
      "              \"end\": 15,\n",
      "              \"name\": \"number_literal\",\n",
      "              \"element\": \"Regex\",\n",
      "              \"string\": \"80\",\n",
      "              \"children\": []\n",
      "            }\n",
      "          ]\n",
      "        },\n",
      "        {\n",
      "          \"start\": 16,\n",
      "          \"end\": 17,\n",
      "          \"name\": \"number_literal\",\n",
      "          \"element\": \"Regex\",\n",
      "          \"string\": \"0\",\n",
      "          \"children\": []\n",
      "        },\n",
      "        {\n",
      "          \"start\": 18,\n",
      "          \"end\": 20,\n",
      "          \"name\": \"number_literal\",\n",
      "          \"element\": \"Regex\",\n",
      "          \"string\": \"10\",\n",
      "          \"children\": []\n",
      "        }\n",
      "      ]\n",
      "    }\n",
      "  ]\n",
      "}\n"
     ]
    }
   ],
   "source": [
    "\n",
    "class CircuitJSGrammar(Grammar):\n",
    "    START = Ref()\n",
    "    \n",
    "    number_literal = Regex('[0-9]+')\n",
    "    coordinates = Repeat(number_literal, mi=4, ma=4)   \n",
    "    \n",
    "    resistor = Sequence(Keyword('r'), coordinates, number_literal, number_literal)\n",
    "    START = Choice(resistor)\n",
    "\n",
    "def node_props(node, children):\n",
    "    return {\n",
    "        'start': node.start,\n",
    "        'end': node.end,\n",
    "        'name': node.element.name if hasattr(node.element, 'name') else None,\n",
    "        'element': node.element.__class__.__name__,\n",
    "        'string': node.string,\n",
    "        'children': children\n",
    "    }\n",
    "\n",
    "\n",
    "# Recursive method to get the children of a node object:\n",
    "def get_children(children):\n",
    "    return [node_props(c, get_children(c.children)) for c in children]\n",
    "\n",
    "\n",
    "# View the parse tree:\n",
    "def view_parse_tree(res):\n",
    "    start = res.tree.children[0] \\\n",
    "        if res.tree.children else res.tree\n",
    "    return node_props(start, get_children(start.children))\n",
    "        \n",
    "grammar = CircuitJSGrammar()\n",
    "print(grammar.parse('r 240 80 448 80 0 10').is_valid)\n",
    "print(grammar.parse('r 240').is_valid)\n",
    "res = grammar.parse('r 240 80 448 80 0 10')\n",
    "print(json.dumps(view_parse_tree(res), indent=2))"
   ]
  },
  {
   "cell_type": "code",
   "execution_count": 78,
   "metadata": {},
   "outputs": [
    {
     "name": "stdout",
     "output_type": "stream",
     "text": [
      "r 240 80 448 80 0 10\n",
      "\n"
     ]
    }
   ],
   "source": [
    "with open('tests/simplest.txt') as f:\n",
    "    f.readline()\n",
    "    for line in f:\n",
    "        print(line)"
   ]
  }
 ],
 "metadata": {
  "kernelspec": {
   "display_name": "circuitjs2schemdraw-KcAC9oYf-py3.11",
   "language": "python",
   "name": "python3"
  },
  "language_info": {
   "codemirror_mode": {
    "name": "ipython",
    "version": 3
   },
   "file_extension": ".py",
   "mimetype": "text/x-python",
   "name": "python",
   "nbconvert_exporter": "python",
   "pygments_lexer": "ipython3",
   "version": "3.11.0"
  },
  "orig_nbformat": 4,
  "vscode": {
   "interpreter": {
    "hash": "0ebbd0ba787e408e4afacd9a353ff5c02207276226e9df787a88be8eaabafe3d"
   }
  }
 },
 "nbformat": 4,
 "nbformat_minor": 2
}
